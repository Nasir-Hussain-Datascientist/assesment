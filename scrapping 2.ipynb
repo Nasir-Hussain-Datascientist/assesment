{
 "cells": [
  {
   "cell_type": "code",
   "execution_count": 4,
   "id": "25a514ed-af15-4759-addf-0d4b27475b76",
   "metadata": {},
   "outputs": [
    {
     "name": "stdout",
     "output_type": "stream",
     "text": [
      "Loaded session from C:\\Users\\Nasar\\AppData\\Local\\Instaloader\\session-a.thing.between.us.\n",
      "Total followers to scrape: 196643\n",
      "\n",
      "Scraping followers...\n",
      "\n",
      "All follower information has been saved to 'Doja.pak_followers_info.xlsx'\n"
     ]
    }
   ],
   "source": [
    "import instaloader\n",
    "import pandas as pd\n",
    "import os\n",
    "\n",
    "# Initialize Instaloader\n",
    "L = instaloader.Instaloader()\n",
    "\n",
    "# Log in with your Instagram credentials\n",
    "USERNAME = 'a.thing.between.us'\n",
    "PASSWORD = 'incorrect@123'\n",
    "\n",
    "# Load session or log in\n",
    "try:\n",
    "    L.load_session_from_file(USERNAME)\n",
    "except FileNotFoundError:\n",
    "    L.login(USERNAME, PASSWORD)\n",
    "    L.save_session_to_file()\n",
    "\n",
    "# Enter the public Instagram username you want to scrape\n",
    "target_username = 'Doja.pak'\n",
    "\n",
    "# Load the profile\n",
    "profile = instaloader.Profile.from_username(L.context, target_username)\n",
    "\n",
    "# Prepare the output Excel file\n",
    "excel_file_path = f\"{target_username}_followers_info.xlsx\"\n",
    "if os.path.exists(excel_file_path):\n",
    "    # If the file exists, load it to determine the last follower index\n",
    "    df = pd.read_excel(excel_file_path)\n",
    "    last_index = len(df)\n",
    "else:\n",
    "    # If the file does not exist, start from index 0\n",
    "    last_index = 0\n",
    "    df = pd.DataFrame(columns=['Username', 'Bio', 'Number of Followers', 'Email (External URL)'])\n",
    "\n",
    "# Print the number of followers to scrape\n",
    "total_followers = profile.followers\n",
    "print(f\"Total followers to scrape: {total_followers}\")\n",
    "\n",
    "# Iterate through followers and save data\n",
    "print(\"\\nScraping followers...\")\n",
    "for index, follower in enumerate(profile.get_followers()):\n",
    "    if index < last_index:\n",
    "        continue  # Skip already processed followers\n",
    "\n",
    "    # Retrieve follower information\n",
    "    follower_username = follower.username\n",
    "    follower_bio = follower.biography if follower.biography else 'No bio available'\n",
    "    follower_count = follower.followers  # Number of followers for each follower\n",
    "    follower_email = follower.external_url if follower.external_url else 'Not available'  # Attempting to retrieve email via external URL\n",
    "    \n",
    "    # Create a new DataFrame for the new follower\n",
    "    new_row = pd.DataFrame({\n",
    "        'Username': [follower_username],\n",
    "        'Bio': [follower_bio],\n",
    "        'Number of Followers': [follower_count],\n",
    "        'Email (External URL)': [follower_email]\n",
    "    })\n",
    "    \n",
    "    # Concatenate the new row to the existing DataFrame\n",
    "    df = pd.concat([df, new_row], ignore_index=True)\n",
    "\n",
    "    # Save the DataFrame to Excel file after adding each follower\n",
    "    df.to_excel(excel_file_path, index=False)\n",
    "\n",
    "    # Print the serial number of the follower being scraped\n",
    "    print(f\"Scraped follower {index + 1}/{total_followers}: {follower_username}\")\n",
    "\n",
    "print(f\"\\nFollower information has been saved to '{excel_file_path}'\")\n",
    "\n"
   ]
  },
  {
   "cell_type": "code",
   "execution_count": null,
   "id": "d4fd68e8-81e8-4e10-8e82-b1dc8fab7bfb",
   "metadata": {},
   "outputs": [],
   "source": []
  },
  {
   "cell_type": "code",
   "execution_count": null,
   "id": "f2b93e21-f46e-4e68-a9f7-2edd033d8cdc",
   "metadata": {},
   "outputs": [],
   "source": []
  }
 ],
 "metadata": {
  "kernelspec": {
   "display_name": "Python 3 (ipykernel)",
   "language": "python",
   "name": "python3"
  },
  "language_info": {
   "codemirror_mode": {
    "name": "ipython",
    "version": 3
   },
   "file_extension": ".py",
   "mimetype": "text/x-python",
   "name": "python",
   "nbconvert_exporter": "python",
   "pygments_lexer": "ipython3",
   "version": "3.11.3"
  }
 },
 "nbformat": 4,
 "nbformat_minor": 5
}
